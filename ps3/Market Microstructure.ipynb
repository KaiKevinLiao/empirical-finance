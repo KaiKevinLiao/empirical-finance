{
 "cells": [
  {
   "cell_type": "markdown",
   "metadata": {},
   "source": [
    "## Microstructure. \n",
    "I've collected tic-by-tic data for one stock for one year. The stock is Family Dollar Store and is a member of the S\\&P 500. Calculate the following\n",
    "\n",
    "a) Average quoted spread for the year.\n",
    "\n",
    "b) Average effective spread. (absolute deviation of price from the midpoint)\n",
    "\n",
    "c) Roll's measure of the spread.\n",
    "\n",
    "d) PIN measure. (I put a sample SAS program on Owlspace)\n",
    "\n",
    "e) Plot $\\log$ (volume) each day of the week on average.\n",
    "\n",
    "f) Plot average intra-day return volatility each day of week on average.\n",
    "\n",
    "g) Plot the time series of hourly bid-ask spreads over the trading day."
   ]
  },
  {
   "cell_type": "code",
   "execution_count": 40,
   "metadata": {},
   "outputs": [],
   "source": [
    "import numpy as np\n",
    "import pandas as pd\n",
    "import datetime\n",
    "import matplotlib.pyplot as plt"
   ]
  },
  {
   "cell_type": "code",
   "execution_count": 11,
   "metadata": {},
   "outputs": [
    {
     "data": {
      "text/html": [
       "<div>\n",
       "<style scoped>\n",
       "    .dataframe tbody tr th:only-of-type {\n",
       "        vertical-align: middle;\n",
       "    }\n",
       "\n",
       "    .dataframe tbody tr th {\n",
       "        vertical-align: top;\n",
       "    }\n",
       "\n",
       "    .dataframe thead th {\n",
       "        text-align: right;\n",
       "    }\n",
       "</style>\n",
       "<table border=\"1\" class=\"dataframe\">\n",
       "  <thead>\n",
       "    <tr style=\"text-align: right;\">\n",
       "      <th></th>\n",
       "      <th>date</th>\n",
       "      <th>bid</th>\n",
       "      <th>ofr</th>\n",
       "      <th>time</th>\n",
       "      <th>price</th>\n",
       "      <th>size</th>\n",
       "      <th>dayofweek</th>\n",
       "    </tr>\n",
       "  </thead>\n",
       "  <tbody>\n",
       "    <tr>\n",
       "      <th>0</th>\n",
       "      <td>2004-01-02</td>\n",
       "      <td>35.68</td>\n",
       "      <td>35.70</td>\n",
       "      <td>34381</td>\n",
       "      <td>35.70</td>\n",
       "      <td>88300</td>\n",
       "      <td>4</td>\n",
       "    </tr>\n",
       "    <tr>\n",
       "      <th>1</th>\n",
       "      <td>2004-01-02</td>\n",
       "      <td>35.68</td>\n",
       "      <td>35.70</td>\n",
       "      <td>34432</td>\n",
       "      <td>35.69</td>\n",
       "      <td>2500</td>\n",
       "      <td>4</td>\n",
       "    </tr>\n",
       "    <tr>\n",
       "      <th>2</th>\n",
       "      <td>2004-01-02</td>\n",
       "      <td>35.68</td>\n",
       "      <td>35.70</td>\n",
       "      <td>34461</td>\n",
       "      <td>35.69</td>\n",
       "      <td>400</td>\n",
       "      <td>4</td>\n",
       "    </tr>\n",
       "    <tr>\n",
       "      <th>3</th>\n",
       "      <td>2004-01-02</td>\n",
       "      <td>35.68</td>\n",
       "      <td>35.70</td>\n",
       "      <td>34504</td>\n",
       "      <td>35.69</td>\n",
       "      <td>800</td>\n",
       "      <td>4</td>\n",
       "    </tr>\n",
       "    <tr>\n",
       "      <th>4</th>\n",
       "      <td>2004-01-02</td>\n",
       "      <td>35.68</td>\n",
       "      <td>35.70</td>\n",
       "      <td>34562</td>\n",
       "      <td>35.70</td>\n",
       "      <td>200</td>\n",
       "      <td>4</td>\n",
       "    </tr>\n",
       "    <tr>\n",
       "      <th>...</th>\n",
       "      <td>...</td>\n",
       "      <td>...</td>\n",
       "      <td>...</td>\n",
       "      <td>...</td>\n",
       "      <td>...</td>\n",
       "      <td>...</td>\n",
       "      <td>...</td>\n",
       "    </tr>\n",
       "    <tr>\n",
       "      <th>380039</th>\n",
       "      <td>2004-12-31</td>\n",
       "      <td>30.70</td>\n",
       "      <td>30.74</td>\n",
       "      <td>34495</td>\n",
       "      <td>30.72</td>\n",
       "      <td>1400</td>\n",
       "      <td>4</td>\n",
       "    </tr>\n",
       "    <tr>\n",
       "      <th>380040</th>\n",
       "      <td>2004-12-31</td>\n",
       "      <td>30.70</td>\n",
       "      <td>30.74</td>\n",
       "      <td>34502</td>\n",
       "      <td>30.72</td>\n",
       "      <td>800</td>\n",
       "      <td>4</td>\n",
       "    </tr>\n",
       "    <tr>\n",
       "      <th>380041</th>\n",
       "      <td>2004-12-31</td>\n",
       "      <td>30.70</td>\n",
       "      <td>30.75</td>\n",
       "      <td>34546</td>\n",
       "      <td>30.75</td>\n",
       "      <td>800</td>\n",
       "      <td>4</td>\n",
       "    </tr>\n",
       "    <tr>\n",
       "      <th>380042</th>\n",
       "      <td>2004-12-31</td>\n",
       "      <td>30.70</td>\n",
       "      <td>30.75</td>\n",
       "      <td>34548</td>\n",
       "      <td>30.75</td>\n",
       "      <td>800</td>\n",
       "      <td>4</td>\n",
       "    </tr>\n",
       "    <tr>\n",
       "      <th>380043</th>\n",
       "      <td>2004-12-31</td>\n",
       "      <td>30.70</td>\n",
       "      <td>30.75</td>\n",
       "      <td>34553</td>\n",
       "      <td>30.75</td>\n",
       "      <td>200</td>\n",
       "      <td>4</td>\n",
       "    </tr>\n",
       "  </tbody>\n",
       "</table>\n",
       "<p>380044 rows × 7 columns</p>\n",
       "</div>"
      ],
      "text/plain": [
       "             date    bid    ofr   time  price   size  dayofweek\n",
       "0      2004-01-02  35.68  35.70  34381  35.70  88300          4\n",
       "1      2004-01-02  35.68  35.70  34432  35.69   2500          4\n",
       "2      2004-01-02  35.68  35.70  34461  35.69    400          4\n",
       "3      2004-01-02  35.68  35.70  34504  35.69    800          4\n",
       "4      2004-01-02  35.68  35.70  34562  35.70    200          4\n",
       "...           ...    ...    ...    ...    ...    ...        ...\n",
       "380039 2004-12-31  30.70  30.74  34495  30.72   1400          4\n",
       "380040 2004-12-31  30.70  30.74  34502  30.72    800          4\n",
       "380041 2004-12-31  30.70  30.75  34546  30.75    800          4\n",
       "380042 2004-12-31  30.70  30.75  34548  30.75    800          4\n",
       "380043 2004-12-31  30.70  30.75  34553  30.75    200          4\n",
       "\n",
       "[380044 rows x 7 columns]"
      ]
     },
     "execution_count": 11,
     "metadata": {},
     "output_type": "execute_result"
    }
   ],
   "source": [
    "DATA = pd.read_csv('tradingdata.csv')\n",
    "DATA['date'] = pd.to_datetime(DATA['date'])\n",
    "DATA['dayofweek'] = DATA['date'].dt.day_of_week\n",
    "DATA"
   ]
  },
  {
   "cell_type": "markdown",
   "metadata": {},
   "source": [
    "### Average quoted spread for the year."
   ]
  },
  {
   "cell_type": "code",
   "execution_count": 15,
   "metadata": {},
   "outputs": [
    {
     "data": {
      "text/plain": [
       "0.024181857890296355"
      ]
     },
     "execution_count": 15,
     "metadata": {},
     "output_type": "execute_result"
    }
   ],
   "source": [
    "np.mean(DATA['ofr'] - DATA['bid'])"
   ]
  },
  {
   "cell_type": "markdown",
   "metadata": {},
   "source": [
    "### Average effective spread. (absolute deviation of price from the midpoint)"
   ]
  },
  {
   "cell_type": "code",
   "execution_count": 19,
   "metadata": {},
   "outputs": [
    {
     "data": {
      "text/plain": [
       "0.0071192063726418"
      ]
     },
     "execution_count": 19,
     "metadata": {},
     "output_type": "execute_result"
    }
   ],
   "source": [
    "np.mean(((DATA['ofr'] + DATA['bid']) / 2 - DATA['price']).abs())"
   ]
  },
  {
   "cell_type": "markdown",
   "metadata": {},
   "source": [
    "### Roll's measure of the spread.\n",
    "\n",
    "$$spread = 2 \\sqrt{-\\operatorname{cov}\\left(\\Delta p_t, \\Delta p_{t+1}\\right)}$$"
   ]
  },
  {
   "cell_type": "code",
   "execution_count": 35,
   "metadata": {},
   "outputs": [
    {
     "data": {
      "text/plain": [
       "0.0029593584690266054"
      ]
     },
     "execution_count": 35,
     "metadata": {},
     "output_type": "execute_result"
    }
   ],
   "source": [
    "DATA['delta_price'] = DATA['price'].shift(1) - DATA['price']\n",
    "2 * np.sqrt(-np.cov(np.array(DATA['delta_price'])[2:], np.array(DATA['delta_price'].shift(1))[2:])[0][1])"
   ]
  },
  {
   "cell_type": "markdown",
   "metadata": {},
   "source": [
    "### Plot $\\log$ (volume) each day of the week on average."
   ]
  },
  {
   "cell_type": "code",
   "execution_count": 67,
   "metadata": {},
   "outputs": [
    {
     "data": {
      "image/png": "[encoded data removed]",
      "text/plain": [
       "<Figure size 432x288 with 1 Axes>"
      ]
     },
     "metadata": {
      "needs_background": "light"
     },
     "output_type": "display_data"
    }
   ],
   "source": [
    "DATA['logvolumn'] = np.log(DATA['size'])\n",
    "logvolumn_byday = DATA.groupby('dayofweek')['logvolumn'].mean()\n",
    "plt.bar([1, 2, 3, 4, 5], height=logvolumn_byday)\n",
    "plt.ylim(bottom=5.4)\n",
    "plt.ylabel('log volumn')\n",
    "plt.xlabel('day of the week')\n",
    "plt.title('log(volume) each day of the week on average')\n",
    "plt.show()"
   ]
  },
  {
   "cell_type": "markdown",
   "metadata": {},
   "source": [
    "### Plot average intra-day return volatility each day of week on average."
   ]
  },
  {
   "cell_type": "code",
   "execution_count": 68,
   "metadata": {},
   "outputs": [
    {
     "data": {
      "image/png": "[encoded data removed]",
      "text/plain": [
       "<Figure size 432x288 with 1 Axes>"
      ]
     },
     "metadata": {
      "needs_background": "light"
     },
     "output_type": "display_data"
    }
   ],
   "source": [
    "def intra_day_volatility(df):\n",
    "    df['intra_day_vol'] = df['price'].pct_change().std()\n",
    "    return df\n",
    "\n",
    "df_dayvol = DATA.groupby('date')[['dayofweek', 'price']].apply(intra_day_volatility)\n",
    "\n",
    "intra_day_vol_byday = df_dayvol.groupby('dayofweek')['intra_day_vol'].mean()\n",
    "\n",
    "plt.bar([1, 2, 3, 4, 5], height=intra_day_vol_byday)\n",
    "plt.ylim(bottom=0.00030)\n",
    "plt.ylabel('intra-day return volatility')\n",
    "plt.xlabel('day of the week')\n",
    "plt.title('intra-day return volatility each day of the week on average')\n",
    "plt.show()"
   ]
  },
  {
   "cell_type": "markdown",
   "metadata": {},
   "source": [
    "### Plot the time series of hourly bid-ask spreads over the trading day."
   ]
  },
  {
   "cell_type": "code",
   "execution_count": 69,
   "metadata": {},
   "outputs": [
    {
     "data": {
      "text/plain": [
       "date\n",
       "2004-01-02    1533\n",
       "2004-01-05    1376\n",
       "2004-01-06    1812\n",
       "2004-01-07    1549\n",
       "2004-01-08    1393\n",
       "              ... \n",
       "2004-12-27    1196\n",
       "2004-12-28    1479\n",
       "2004-12-29     999\n",
       "2004-12-30    1356\n",
       "2004-12-31      13\n",
       "Name: bid, Length: 239, dtype: int64"
      ]
     },
     "execution_count": 69,
     "metadata": {},
     "output_type": "execute_result"
    }
   ],
   "source": [
    "DATA['spread'] = DATA['ofr'] - DATA['bid']\n",
    "def "
   ]
  },
  {
   "cell_type": "code",
   "execution_count": null,
   "metadata": {},
   "outputs": [],
   "source": []
  }
 ],
 "metadata": {
  "kernelspec": {
   "display_name": "Python 3.8.8 ('base')",
   "language": "python",
   "name": "python3"
  },
  "language_info": {
   "codemirror_mode": {
    "name": "ipython",
    "version": 3
   },
   "file_extension": ".py",
   "mimetype": "text/x-python",
   "name": "python",
   "nbconvert_exporter": "python",
   "pygments_lexer": "ipython3",
   "version": "3.8.8"
  },
  "orig_nbformat": 4,
  "vscode": {
   "interpreter": {
    "hash": "5bdec5f8e3354d0a62520c9c0e6b1fb491b129cdeccb8985ae40b7b1fd334666"
   }
  }
 },
 "nbformat": 4,
 "nbformat_minor": 2
}
