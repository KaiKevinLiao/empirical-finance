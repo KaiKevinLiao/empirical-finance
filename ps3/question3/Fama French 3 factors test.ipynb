{
 "cells": [
  {
   "cell_type": "markdown",
   "metadata": {},
   "source": [
    "## Empirical Asset pricing. \n",
    "### Testing the Fama/French 3-factor model.\n",
    "\n",
    "Let's tests whether Fama French's 3-factor model holds out of sample. On Ken French's web page there is data posted on 100 portfolios formed on size and book-to-market (10x10). There is also data posted on the monthly F/F factors (SMB, HML, Rf, etc.). Use monthly data from 1993 to the present. For each portfolio, estimate loadings on the factors (use 5-year, monthly rolling betas - so past 60 observations). Then test whether the loadings explain the variation in returns across the 100 portfolios. Be careful in describing your test and standard error construction."
   ]
  },
  {
   "cell_type": "code",
   "execution_count": 1,
   "metadata": {},
   "outputs": [],
   "source": [
    "import numpy as np\n",
    "import pandas as pd\n",
    "import statsmodels.formula.api as smf\n",
    "from scipy import stats\n",
    "import matplotlib.pyplot as plt\n",
    "import seaborn as sns\n",
    "\n",
    "import warnings\n",
    "warnings.filterwarnings(\"ignore\")"
   ]
  },
  {
   "cell_type": "code",
   "execution_count": 2,
   "metadata": {},
   "outputs": [
    {
     "data": {
      "text/html": [
       "<div>\n",
       "<style scoped>\n",
       "    .dataframe tbody tr th:only-of-type {\n",
       "        vertical-align: middle;\n",
       "    }\n",
       "\n",
       "    .dataframe tbody tr th {\n",
       "        vertical-align: top;\n",
       "    }\n",
       "\n",
       "    .dataframe thead th {\n",
       "        text-align: right;\n",
       "    }\n",
       "</style>\n",
       "<table border=\"1\" class=\"dataframe\">\n",
       "  <thead>\n",
       "    <tr style=\"text-align: right;\">\n",
       "      <th></th>\n",
       "      <th>yearmonth</th>\n",
       "      <th>SMALLLoBM</th>\n",
       "      <th>ME1BM2</th>\n",
       "      <th>ME1BM3</th>\n",
       "      <th>ME1BM4</th>\n",
       "      <th>ME1BM5</th>\n",
       "      <th>ME1BM6</th>\n",
       "      <th>ME1BM7</th>\n",
       "      <th>ME1BM8</th>\n",
       "      <th>ME1BM9</th>\n",
       "      <th>...</th>\n",
       "      <th>BIGLoBM</th>\n",
       "      <th>ME10BM2</th>\n",
       "      <th>ME10BM3</th>\n",
       "      <th>ME10BM4</th>\n",
       "      <th>ME10BM5</th>\n",
       "      <th>ME10BM6</th>\n",
       "      <th>ME10BM7</th>\n",
       "      <th>ME10BM8</th>\n",
       "      <th>ME10BM9</th>\n",
       "      <th>BIGHiBM</th>\n",
       "    </tr>\n",
       "  </thead>\n",
       "  <tbody>\n",
       "    <tr>\n",
       "      <th>798</th>\n",
       "      <td>199301</td>\n",
       "      <td>5.0058</td>\n",
       "      <td>3.9575</td>\n",
       "      <td>6.5762</td>\n",
       "      <td>6.4824</td>\n",
       "      <td>9.0444</td>\n",
       "      <td>4.8421</td>\n",
       "      <td>8.3682</td>\n",
       "      <td>2.9728</td>\n",
       "      <td>8.1471</td>\n",
       "      <td>...</td>\n",
       "      <td>-3.8493</td>\n",
       "      <td>0.2863</td>\n",
       "      <td>1.9403</td>\n",
       "      <td>0.1493</td>\n",
       "      <td>-0.0866</td>\n",
       "      <td>1.9504</td>\n",
       "      <td>3.9954</td>\n",
       "      <td>3.1343</td>\n",
       "      <td>3.9508</td>\n",
       "      <td>13.4371</td>\n",
       "    </tr>\n",
       "    <tr>\n",
       "      <th>799</th>\n",
       "      <td>199302</td>\n",
       "      <td>-4.5362</td>\n",
       "      <td>-5.3163</td>\n",
       "      <td>-7.9586</td>\n",
       "      <td>-4.6689</td>\n",
       "      <td>-1.5136</td>\n",
       "      <td>1.0749</td>\n",
       "      <td>-1.0107</td>\n",
       "      <td>0.5561</td>\n",
       "      <td>-0.6979</td>\n",
       "      <td>...</td>\n",
       "      <td>-3.1497</td>\n",
       "      <td>-1.9138</td>\n",
       "      <td>2.2660</td>\n",
       "      <td>4.0238</td>\n",
       "      <td>4.8306</td>\n",
       "      <td>5.7410</td>\n",
       "      <td>5.3137</td>\n",
       "      <td>4.1839</td>\n",
       "      <td>3.2917</td>\n",
       "      <td>0.0650</td>\n",
       "    </tr>\n",
       "    <tr>\n",
       "      <th>800</th>\n",
       "      <td>199303</td>\n",
       "      <td>1.6287</td>\n",
       "      <td>0.2674</td>\n",
       "      <td>4.0697</td>\n",
       "      <td>3.7666</td>\n",
       "      <td>-1.6977</td>\n",
       "      <td>1.8126</td>\n",
       "      <td>6.5378</td>\n",
       "      <td>3.8956</td>\n",
       "      <td>4.3116</td>\n",
       "      <td>...</td>\n",
       "      <td>-0.1675</td>\n",
       "      <td>1.6531</td>\n",
       "      <td>3.8599</td>\n",
       "      <td>4.1025</td>\n",
       "      <td>2.6659</td>\n",
       "      <td>2.0636</td>\n",
       "      <td>-0.1267</td>\n",
       "      <td>0.8181</td>\n",
       "      <td>3.7613</td>\n",
       "      <td>5.5617</td>\n",
       "    </tr>\n",
       "  </tbody>\n",
       "</table>\n",
       "<p>3 rows × 101 columns</p>\n",
       "</div>"
      ],
      "text/plain": [
       "     yearmonth  SMALLLoBM  ME1BM2  ME1BM3  ME1BM4  ME1BM5  ME1BM6  ME1BM7  \\\n",
       "798     199301     5.0058  3.9575  6.5762  6.4824  9.0444  4.8421  8.3682   \n",
       "799     199302    -4.5362 -5.3163 -7.9586 -4.6689 -1.5136  1.0749 -1.0107   \n",
       "800     199303     1.6287  0.2674  4.0697  3.7666 -1.6977  1.8126  6.5378   \n",
       "\n",
       "     ME1BM8  ME1BM9  ...  BIGLoBM  ME10BM2  ME10BM3  ME10BM4  ME10BM5  \\\n",
       "798  2.9728  8.1471  ...  -3.8493   0.2863   1.9403   0.1493  -0.0866   \n",
       "799  0.5561 -0.6979  ...  -3.1497  -1.9138   2.2660   4.0238   4.8306   \n",
       "800  3.8956  4.3116  ...  -0.1675   1.6531   3.8599   4.1025   2.6659   \n",
       "\n",
       "     ME10BM6  ME10BM7  ME10BM8  ME10BM9  BIGHiBM  \n",
       "798   1.9504   3.9954   3.1343   3.9508  13.4371  \n",
       "799   5.7410   5.3137   4.1839   3.2917   0.0650  \n",
       "800   2.0636  -0.1267   0.8181   3.7613   5.5617  \n",
       "\n",
       "[3 rows x 101 columns]"
      ]
     },
     "execution_count": 2,
     "metadata": {},
     "output_type": "execute_result"
    }
   ],
   "source": [
    "RETURN = pd.read_csv('100_Portfolios_10x10.CSV').rename(columns={'Unnamed: 0':'yearmonth'})\n",
    "RETURN = RETURN[RETURN['yearmonth'] > 199300]\n",
    "RETURN.columns = RETURN.columns.str.replace(' ', '')\n",
    "RETURN.head(3)"
   ]
  },
  {
   "cell_type": "code",
   "execution_count": 3,
   "metadata": {},
   "outputs": [],
   "source": [
    "PORT_NAMES = list(RETURN.columns)\n",
    "PORT_NAMES.remove('yearmonth')"
   ]
  },
  {
   "cell_type": "code",
   "execution_count": 4,
   "metadata": {},
   "outputs": [
    {
     "data": {
      "text/html": [
       "<div>\n",
       "<style scoped>\n",
       "    .dataframe tbody tr th:only-of-type {\n",
       "        vertical-align: middle;\n",
       "    }\n",
       "\n",
       "    .dataframe tbody tr th {\n",
       "        vertical-align: top;\n",
       "    }\n",
       "\n",
       "    .dataframe thead th {\n",
       "        text-align: right;\n",
       "    }\n",
       "</style>\n",
       "<table border=\"1\" class=\"dataframe\">\n",
       "  <thead>\n",
       "    <tr style=\"text-align: right;\">\n",
       "      <th></th>\n",
       "      <th>yearmonth</th>\n",
       "      <th>MktRF</th>\n",
       "      <th>SMB</th>\n",
       "      <th>HML</th>\n",
       "      <th>RF</th>\n",
       "    </tr>\n",
       "  </thead>\n",
       "  <tbody>\n",
       "    <tr>\n",
       "      <th>30</th>\n",
       "      <td>199301</td>\n",
       "      <td>0.75</td>\n",
       "      <td>2.01</td>\n",
       "      <td>5.17</td>\n",
       "      <td>0.23</td>\n",
       "    </tr>\n",
       "    <tr>\n",
       "      <th>31</th>\n",
       "      <td>199302</td>\n",
       "      <td>0.45</td>\n",
       "      <td>-3.61</td>\n",
       "      <td>7.22</td>\n",
       "      <td>0.22</td>\n",
       "    </tr>\n",
       "    <tr>\n",
       "      <th>32</th>\n",
       "      <td>199303</td>\n",
       "      <td>2.34</td>\n",
       "      <td>0.60</td>\n",
       "      <td>1.98</td>\n",
       "      <td>0.25</td>\n",
       "    </tr>\n",
       "  </tbody>\n",
       "</table>\n",
       "</div>"
      ],
      "text/plain": [
       "    yearmonth  MktRF   SMB   HML    RF\n",
       "30     199301   0.75  2.01  5.17  0.23\n",
       "31     199302   0.45 -3.61  7.22  0.22\n",
       "32     199303   2.34  0.60  1.98  0.25"
      ]
     },
     "execution_count": 4,
     "metadata": {},
     "output_type": "execute_result"
    }
   ],
   "source": [
    "FACTORS = pd.read_csv('North_America_3_Factors.csv').rename(columns={'Unnamed: 0':'yearmonth'})\n",
    "FACTORS = FACTORS[FACTORS['yearmonth'] > 199300]\n",
    "FACTORS.columns = FACTORS.columns.str.replace('-', '')\n",
    "FACTORS.head(3)"
   ]
  },
  {
   "cell_type": "code",
   "execution_count": 5,
   "metadata": {},
   "outputs": [],
   "source": [
    "DATA = RETURN.merge(FACTORS, on='yearmonth')"
   ]
  },
  {
   "cell_type": "markdown",
   "metadata": {},
   "source": [
    "Use data from 1993-01 to 1997-12 as training data and data from 1998-01 to 2002-12 as testing data. Similarly, 2003 - 2007 data to train and 2008 - 2012 data to test; 2013 - 2017 data to train and 2018 - 2022 data to test."
   ]
  },
  {
   "cell_type": "code",
   "execution_count": 6,
   "metadata": {},
   "outputs": [],
   "source": [
    "def test_three_factors(train_start, train_end, test_start, test_end):\n",
    "    train_start = train_start * 100\n",
    "    train_end   = train_end   * 100\n",
    "    test_start  = test_start  * 100\n",
    "    test_end    = test_end    * 100\n",
    "\n",
    "    DATA_TRAIN = DATA[(DATA['yearmonth'] > train_start) & (DATA['yearmonth'] < train_end)].copy()\n",
    "\n",
    "    # returns of funds minus risk-free returns\n",
    "    for name in PORT_NAMES : \n",
    "        DATA_TRAIN[name] = DATA_TRAIN[name] - DATA_TRAIN['RF']\n",
    "\n",
    "    DATA_TEST = DATA[(DATA['yearmonth'] > test_start) & (DATA['yearmonth'] < test_end)].copy()\n",
    "\n",
    "\n",
    "    for name in PORT_NAMES :\n",
    "\n",
    "        reg_func = name + \" ~ \" + \"MktRF + SMB + HML\"\n",
    "        model = smf.ols(reg_func, data=DATA_TRAIN)\n",
    "        result = model.fit()\n",
    "\n",
    "        DATA_TEST[name + \"_beta_0\"]     = result.params.Intercept\n",
    "        DATA_TEST[name + \"_beta_MktRF\"] = result.params.MktRF\n",
    "        DATA_TEST[name + \"_beta_SMB\"]   = result.params.SMB\n",
    "        DATA_TEST[name + \"_beta_HML\"]   = result.params.HML \n",
    "\n",
    "        DATA_TEST[name + \"_pred\"] = DATA_TEST[name + \"_beta_0\"] + \\\n",
    "                                    DATA_TEST[name + \"_beta_HML\"] * DATA_TEST['HML'] + \\\n",
    "                                    DATA_TEST[name + \"_beta_MktRF\"] * DATA_TEST[\"MktRF\"] + \\\n",
    "                                    DATA_TEST[name + \"_beta_SMB\"] * DATA_TEST[\"SMB\"]\n",
    "\n",
    "    AVER_PRED_RET = []\n",
    "    AVER_RET = []\n",
    "    RET = DATA_TEST.mean(axis=0)\n",
    "    for name in PORT_NAMES :\n",
    "        if RET[name] < -10:\n",
    "            continue\n",
    "        AVER_RET.append(RET[name])\n",
    "        AVER_PRED_RET.append(RET[name + \"_pred\"])\n",
    "\n",
    "    plt.scatter(AVER_PRED_RET, AVER_RET)\n",
    "    plt.ylabel(\"real return\")\n",
    "    plt.xlabel(\"predicted return\")\n",
    "    plt.title(\"Testing 3 Factors Model\")\n",
    "    sns.regplot(y=AVER_RET, x=AVER_PRED_RET)\n",
    "\n",
    "    slope, intercept, r_value, p_value, std_err = stats.linregress(AVER_PRED_RET, AVER_RET)\n",
    "\n",
    "\n",
    "    return plt, p_value\n"
   ]
  },
  {
   "cell_type": "code",
   "execution_count": 7,
   "metadata": {},
   "outputs": [
    {
     "name": "stdout",
     "output_type": "stream",
     "text": [
      "The p_value of the predictability of 3 factor model is 0.0004783111090764899\n"
     ]
    },
    {
     "data": {
      "image/png": "[encoded data removed]",
      "text/plain": [
       "<Figure size 432x288 with 1 Axes>"
      ]
     },
     "metadata": {
      "needs_background": "light"
     },
     "output_type": "display_data"
    }
   ],
   "source": [
    "plot, p_value = test_three_factors(1993, 1998, 1998, 2003)\n",
    "\n",
    "print('The p_value of the predictability of 3 factor model is', p_value)"
   ]
  },
  {
   "cell_type": "code",
   "execution_count": 8,
   "metadata": {},
   "outputs": [
    {
     "name": "stdout",
     "output_type": "stream",
     "text": [
      "The p_value of the predictability of 3 factor model is 0.0409735784204476\n"
     ]
    },
    {
     "data": {
      "image/png": "[encoded data removed]",
      "text/plain": [
       "<Figure size 432x288 with 1 Axes>"
      ]
     },
     "metadata": {
      "needs_background": "light"
     },
     "output_type": "display_data"
    }
   ],
   "source": [
    "plot, p_value = test_three_factors(2003, 2008, 2008, 2013)\n",
    "\n",
    "print('The p_value of the predictability of 3 factor model is', p_value)"
   ]
  },
  {
   "cell_type": "code",
   "execution_count": 9,
   "metadata": {},
   "outputs": [
    {
     "name": "stdout",
     "output_type": "stream",
     "text": [
      "The p_value of the predictability of 3 factor model is 0.321476196712177\n"
     ]
    },
    {
     "data": {
      "image/png": "[encoded data removed]",
      "text/plain": [
       "<Figure size 432x288 with 1 Axes>"
      ]
     },
     "metadata": {
      "needs_background": "light"
     },
     "output_type": "display_data"
    }
   ],
   "source": [
    "plot, p_value = test_three_factors(2013, 2018, 2018, 2023)\n",
    "\n",
    "print('The p_value of the predictability of 3 factor model is', p_value)"
   ]
  },
  {
   "cell_type": "code",
   "execution_count": null,
   "metadata": {},
   "outputs": [],
   "source": []
  }
 ],
 "metadata": {
  "kernelspec": {
   "display_name": "Python 3.8.8 ('base')",
   "language": "python",
   "name": "python3"
  },
  "language_info": {
   "codemirror_mode": {
    "name": "ipython",
    "version": 3
   },
   "file_extension": ".py",
   "mimetype": "text/x-python",
   "name": "python",
   "nbconvert_exporter": "python",
   "pygments_lexer": "ipython3",
   "version": "3.8.8"
  },
  "orig_nbformat": 4,
  "vscode": {
   "interpreter": {
    "hash": "5bdec5f8e3354d0a62520c9c0e6b1fb491b129cdeccb8985ae40b7b1fd334666"
   }
  }
 },
 "nbformat": 4,
 "nbformat_minor": 2
}
